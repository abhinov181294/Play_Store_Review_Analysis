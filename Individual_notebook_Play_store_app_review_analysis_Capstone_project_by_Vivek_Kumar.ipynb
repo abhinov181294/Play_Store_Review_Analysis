{
  "cells": [
    {
      "cell_type": "markdown",
      "metadata": {
        "id": "view-in-github",
        "colab_type": "text"
      },
      "source": [
        "<a href=\"https://colab.research.google.com/github/abhinov311297/Play_Store_Review_Analysis/blob/main/Individual_notebook_Play_store_app_review_analysis_Capstone_project_by_Vivek_Kumar.ipynb\" target=\"_parent\"><img src=\"https://colab.research.google.com/assets/colab-badge.svg\" alt=\"Open In Colab\"/></a>"
      ]
    },
    {
      "cell_type": "markdown",
      "metadata": {
        "id": "9zir2yqq2WkU"
      },
      "source": [
        "# **The Play Store apps data has enormous potential to drive app-making businesses to success. Actionable insights can be drawn for developers to work on and capture the Android market.**\n",
        "# **Each app (row) has values for catergory, rating, size, and more. Another dataset contains customer reviews of the android apps.**\n",
        "## **Explore and analyze the data to discover key factors responsible for app engagement and success.**"
      ]
    },
    {
      "cell_type": "markdown",
      "metadata": {
        "id": "jAzWHcoA3LXa"
      },
      "source": [
        "## **“Where there is data smoke, there is business fire.” — Thomas Redman**\n",
        "\n",
        "Thomas C. Redman, president of Data Quality Solutions, helps start-ups and multi-nationals, senior executives, chief data officers, and leaders buried deep in their organizations chart their courses to data-driven futures, with special emphasis on quality and analytics.\n",
        "\n",
        "It is correctly said that data is needed for startup growth in a region as it help us to understand the bussiness environment,taste of the population and previous record of the region.\n",
        "\n",
        "I have tried to analyse the data set given as a project and able to further develop my understanding in Data Sceince and able to grab some fruitful conclusion which would help getting grilled in one of most important field of corporate world. \n",
        "\n",
        "So,now lets starts playing with the data!"
      ]
    },
    {
      "cell_type": "code",
      "execution_count": null,
      "metadata": {
        "id": "Gzdw5MOSTqJK"
      },
      "outputs": [],
      "source": [
        "import pandas as pd\n",
        "import numpy as np\n",
        "import matplotlib.pyplot as plt\n",
        "%matplotlib inline\n",
        "import seaborn as sns\n"
      ]
    },
    {
      "cell_type": "code",
      "execution_count": null,
      "metadata": {
        "colab": {
          "base_uri": "https://localhost:8080/"
        },
        "id": "HyHDYI-CbSb2",
        "outputId": "48a4421c-507c-47cc-a5e9-3265986066c7"
      },
      "outputs": [
        {
          "output_type": "stream",
          "name": "stdout",
          "text": [
            "Mounted at /content/drive\n"
          ]
        }
      ],
      "source": [
        "from google.colab import drive\n",
        "drive.mount('/content/drive')"
      ]
    },
    {
      "cell_type": "code",
      "execution_count": null,
      "metadata": {
        "id": "21-ALJ-nYEja"
      },
      "outputs": [],
      "source": [
        "path= '/content/drive/MyDrive/CAPSTONE_PROJECT-1-EDA/'\n",
        "df = pd.read_csv(path+'Play Store Data.csv')"
      ]
    },
    {
      "cell_type": "markdown",
      "source": [
        "# **Load dataframes for visual analysis** "
      ],
      "metadata": {
        "id": "QqBz81Ytt_q4"
      }
    },
    {
      "cell_type": "code",
      "execution_count": null,
      "metadata": {
        "colab": {
          "base_uri": "https://localhost:8080/",
          "height": 441
        },
        "id": "Zl8y4D_YZ0Hl",
        "outputId": "50e9031e-97c8-4bca-add3-3f84c895b9b3"
      },
      "outputs": [
        {
          "output_type": "execute_result",
          "data": {
            "text/plain": [
              "                                                 App        Category  Rating  \\\n",
              "0     Photo Editor & Candy Camera & Grid & ScrapBook  ART_AND_DESIGN     4.1   \n",
              "1                                Coloring book moana  ART_AND_DESIGN     3.9   \n",
              "2  U Launcher Lite – FREE Live Cool Themes, Hide ...  ART_AND_DESIGN     4.7   \n",
              "3                              Sketch - Draw & Paint  ART_AND_DESIGN     4.5   \n",
              "4              Pixel Draw - Number Art Coloring Book  ART_AND_DESIGN     4.3   \n",
              "\n",
              "  Reviews  Size     Installs  Type Price Content Rating  \\\n",
              "0     159   19M      10,000+  Free     0       Everyone   \n",
              "1     967   14M     500,000+  Free     0       Everyone   \n",
              "2   87510  8.7M   5,000,000+  Free     0       Everyone   \n",
              "3  215644   25M  50,000,000+  Free     0           Teen   \n",
              "4     967  2.8M     100,000+  Free     0       Everyone   \n",
              "\n",
              "                      Genres      Last Updated         Current Ver  \\\n",
              "0               Art & Design   January 7, 2018               1.0.0   \n",
              "1  Art & Design;Pretend Play  January 15, 2018               2.0.0   \n",
              "2               Art & Design    August 1, 2018               1.2.4   \n",
              "3               Art & Design      June 8, 2018  Varies with device   \n",
              "4    Art & Design;Creativity     June 20, 2018                 1.1   \n",
              "\n",
              "    Android Ver  \n",
              "0  4.0.3 and up  \n",
              "1  4.0.3 and up  \n",
              "2  4.0.3 and up  \n",
              "3    4.2 and up  \n",
              "4    4.4 and up  "
            ],
            "text/html": [
              "\n",
              "  <div id=\"df-afdfdecd-b7da-4b5a-ab30-963e95ad002c\">\n",
              "    <div class=\"colab-df-container\">\n",
              "      <div>\n",
              "<style scoped>\n",
              "    .dataframe tbody tr th:only-of-type {\n",
              "        vertical-align: middle;\n",
              "    }\n",
              "\n",
              "    .dataframe tbody tr th {\n",
              "        vertical-align: top;\n",
              "    }\n",
              "\n",
              "    .dataframe thead th {\n",
              "        text-align: right;\n",
              "    }\n",
              "</style>\n",
              "<table border=\"1\" class=\"dataframe\">\n",
              "  <thead>\n",
              "    <tr style=\"text-align: right;\">\n",
              "      <th></th>\n",
              "      <th>App</th>\n",
              "      <th>Category</th>\n",
              "      <th>Rating</th>\n",
              "      <th>Reviews</th>\n",
              "      <th>Size</th>\n",
              "      <th>Installs</th>\n",
              "      <th>Type</th>\n",
              "      <th>Price</th>\n",
              "      <th>Content Rating</th>\n",
              "      <th>Genres</th>\n",
              "      <th>Last Updated</th>\n",
              "      <th>Current Ver</th>\n",
              "      <th>Android Ver</th>\n",
              "    </tr>\n",
              "  </thead>\n",
              "  <tbody>\n",
              "    <tr>\n",
              "      <th>0</th>\n",
              "      <td>Photo Editor &amp; Candy Camera &amp; Grid &amp; ScrapBook</td>\n",
              "      <td>ART_AND_DESIGN</td>\n",
              "      <td>4.1</td>\n",
              "      <td>159</td>\n",
              "      <td>19M</td>\n",
              "      <td>10,000+</td>\n",
              "      <td>Free</td>\n",
              "      <td>0</td>\n",
              "      <td>Everyone</td>\n",
              "      <td>Art &amp; Design</td>\n",
              "      <td>January 7, 2018</td>\n",
              "      <td>1.0.0</td>\n",
              "      <td>4.0.3 and up</td>\n",
              "    </tr>\n",
              "    <tr>\n",
              "      <th>1</th>\n",
              "      <td>Coloring book moana</td>\n",
              "      <td>ART_AND_DESIGN</td>\n",
              "      <td>3.9</td>\n",
              "      <td>967</td>\n",
              "      <td>14M</td>\n",
              "      <td>500,000+</td>\n",
              "      <td>Free</td>\n",
              "      <td>0</td>\n",
              "      <td>Everyone</td>\n",
              "      <td>Art &amp; Design;Pretend Play</td>\n",
              "      <td>January 15, 2018</td>\n",
              "      <td>2.0.0</td>\n",
              "      <td>4.0.3 and up</td>\n",
              "    </tr>\n",
              "    <tr>\n",
              "      <th>2</th>\n",
              "      <td>U Launcher Lite – FREE Live Cool Themes, Hide ...</td>\n",
              "      <td>ART_AND_DESIGN</td>\n",
              "      <td>4.7</td>\n",
              "      <td>87510</td>\n",
              "      <td>8.7M</td>\n",
              "      <td>5,000,000+</td>\n",
              "      <td>Free</td>\n",
              "      <td>0</td>\n",
              "      <td>Everyone</td>\n",
              "      <td>Art &amp; Design</td>\n",
              "      <td>August 1, 2018</td>\n",
              "      <td>1.2.4</td>\n",
              "      <td>4.0.3 and up</td>\n",
              "    </tr>\n",
              "    <tr>\n",
              "      <th>3</th>\n",
              "      <td>Sketch - Draw &amp; Paint</td>\n",
              "      <td>ART_AND_DESIGN</td>\n",
              "      <td>4.5</td>\n",
              "      <td>215644</td>\n",
              "      <td>25M</td>\n",
              "      <td>50,000,000+</td>\n",
              "      <td>Free</td>\n",
              "      <td>0</td>\n",
              "      <td>Teen</td>\n",
              "      <td>Art &amp; Design</td>\n",
              "      <td>June 8, 2018</td>\n",
              "      <td>Varies with device</td>\n",
              "      <td>4.2 and up</td>\n",
              "    </tr>\n",
              "    <tr>\n",
              "      <th>4</th>\n",
              "      <td>Pixel Draw - Number Art Coloring Book</td>\n",
              "      <td>ART_AND_DESIGN</td>\n",
              "      <td>4.3</td>\n",
              "      <td>967</td>\n",
              "      <td>2.8M</td>\n",
              "      <td>100,000+</td>\n",
              "      <td>Free</td>\n",
              "      <td>0</td>\n",
              "      <td>Everyone</td>\n",
              "      <td>Art &amp; Design;Creativity</td>\n",
              "      <td>June 20, 2018</td>\n",
              "      <td>1.1</td>\n",
              "      <td>4.4 and up</td>\n",
              "    </tr>\n",
              "  </tbody>\n",
              "</table>\n",
              "</div>\n",
              "      <button class=\"colab-df-convert\" onclick=\"convertToInteractive('df-afdfdecd-b7da-4b5a-ab30-963e95ad002c')\"\n",
              "              title=\"Convert this dataframe to an interactive table.\"\n",
              "              style=\"display:none;\">\n",
              "        \n",
              "  <svg xmlns=\"http://www.w3.org/2000/svg\" height=\"24px\"viewBox=\"0 0 24 24\"\n",
              "       width=\"24px\">\n",
              "    <path d=\"M0 0h24v24H0V0z\" fill=\"none\"/>\n",
              "    <path d=\"M18.56 5.44l.94 2.06.94-2.06 2.06-.94-2.06-.94-.94-2.06-.94 2.06-2.06.94zm-11 1L8.5 8.5l.94-2.06 2.06-.94-2.06-.94L8.5 2.5l-.94 2.06-2.06.94zm10 10l.94 2.06.94-2.06 2.06-.94-2.06-.94-.94-2.06-.94 2.06-2.06.94z\"/><path d=\"M17.41 7.96l-1.37-1.37c-.4-.4-.92-.59-1.43-.59-.52 0-1.04.2-1.43.59L10.3 9.45l-7.72 7.72c-.78.78-.78 2.05 0 2.83L4 21.41c.39.39.9.59 1.41.59.51 0 1.02-.2 1.41-.59l7.78-7.78 2.81-2.81c.8-.78.8-2.07 0-2.86zM5.41 20L4 18.59l7.72-7.72 1.47 1.35L5.41 20z\"/>\n",
              "  </svg>\n",
              "      </button>\n",
              "      \n",
              "  <style>\n",
              "    .colab-df-container {\n",
              "      display:flex;\n",
              "      flex-wrap:wrap;\n",
              "      gap: 12px;\n",
              "    }\n",
              "\n",
              "    .colab-df-convert {\n",
              "      background-color: #E8F0FE;\n",
              "      border: none;\n",
              "      border-radius: 50%;\n",
              "      cursor: pointer;\n",
              "      display: none;\n",
              "      fill: #1967D2;\n",
              "      height: 32px;\n",
              "      padding: 0 0 0 0;\n",
              "      width: 32px;\n",
              "    }\n",
              "\n",
              "    .colab-df-convert:hover {\n",
              "      background-color: #E2EBFA;\n",
              "      box-shadow: 0px 1px 2px rgba(60, 64, 67, 0.3), 0px 1px 3px 1px rgba(60, 64, 67, 0.15);\n",
              "      fill: #174EA6;\n",
              "    }\n",
              "\n",
              "    [theme=dark] .colab-df-convert {\n",
              "      background-color: #3B4455;\n",
              "      fill: #D2E3FC;\n",
              "    }\n",
              "\n",
              "    [theme=dark] .colab-df-convert:hover {\n",
              "      background-color: #434B5C;\n",
              "      box-shadow: 0px 1px 3px 1px rgba(0, 0, 0, 0.15);\n",
              "      filter: drop-shadow(0px 1px 2px rgba(0, 0, 0, 0.3));\n",
              "      fill: #FFFFFF;\n",
              "    }\n",
              "  </style>\n",
              "\n",
              "      <script>\n",
              "        const buttonEl =\n",
              "          document.querySelector('#df-afdfdecd-b7da-4b5a-ab30-963e95ad002c button.colab-df-convert');\n",
              "        buttonEl.style.display =\n",
              "          google.colab.kernel.accessAllowed ? 'block' : 'none';\n",
              "\n",
              "        async function convertToInteractive(key) {\n",
              "          const element = document.querySelector('#df-afdfdecd-b7da-4b5a-ab30-963e95ad002c');\n",
              "          const dataTable =\n",
              "            await google.colab.kernel.invokeFunction('convertToInteractive',\n",
              "                                                     [key], {});\n",
              "          if (!dataTable) return;\n",
              "\n",
              "          const docLinkHtml = 'Like what you see? Visit the ' +\n",
              "            '<a target=\"_blank\" href=https://colab.research.google.com/notebooks/data_table.ipynb>data table notebook</a>'\n",
              "            + ' to learn more about interactive tables.';\n",
              "          element.innerHTML = '';\n",
              "          dataTable['output_type'] = 'display_data';\n",
              "          await google.colab.output.renderOutput(dataTable, element);\n",
              "          const docLink = document.createElement('div');\n",
              "          docLink.innerHTML = docLinkHtml;\n",
              "          element.appendChild(docLink);\n",
              "        }\n",
              "      </script>\n",
              "    </div>\n",
              "  </div>\n",
              "  "
            ]
          },
          "metadata": {},
          "execution_count": 5
        }
      ],
      "source": [
        "df.head() #to see the sample data"
      ]
    },
    {
      "cell_type": "code",
      "source": [
        "df.tail()"
      ],
      "metadata": {
        "colab": {
          "base_uri": "https://localhost:8080/",
          "height": 424
        },
        "id": "6_RAWVH-uq_g",
        "outputId": "b5ee0f8d-a129-472b-d66a-5cb9d4e8d4c1"
      },
      "execution_count": null,
      "outputs": [
        {
          "output_type": "execute_result",
          "data": {
            "text/plain": [
              "                                                 App             Category  \\\n",
              "10836                               Sya9a Maroc - FR               FAMILY   \n",
              "10837               Fr. Mike Schmitz Audio Teachings               FAMILY   \n",
              "10838                         Parkinson Exercices FR              MEDICAL   \n",
              "10839                  The SCP Foundation DB fr nn5n  BOOKS_AND_REFERENCE   \n",
              "10840  iHoroscope - 2018 Daily Horoscope & Astrology            LIFESTYLE   \n",
              "\n",
              "       Rating Reviews                Size     Installs  Type Price  \\\n",
              "10836     4.5      38                 53M       5,000+  Free     0   \n",
              "10837     5.0       4                3.6M         100+  Free     0   \n",
              "10838     NaN       3                9.5M       1,000+  Free     0   \n",
              "10839     4.5     114  Varies with device       1,000+  Free     0   \n",
              "10840     4.5  398307                 19M  10,000,000+  Free     0   \n",
              "\n",
              "      Content Rating             Genres      Last Updated         Current Ver  \\\n",
              "10836       Everyone          Education     July 25, 2017                1.48   \n",
              "10837       Everyone          Education      July 6, 2018                 1.0   \n",
              "10838       Everyone            Medical  January 20, 2017                 1.0   \n",
              "10839     Mature 17+  Books & Reference  January 19, 2015  Varies with device   \n",
              "10840       Everyone          Lifestyle     July 25, 2018  Varies with device   \n",
              "\n",
              "              Android Ver  \n",
              "10836          4.1 and up  \n",
              "10837          4.1 and up  \n",
              "10838          2.2 and up  \n",
              "10839  Varies with device  \n",
              "10840  Varies with device  "
            ],
            "text/html": [
              "\n",
              "  <div id=\"df-ad697c61-5d1b-4f92-a3e4-9c75518e7046\">\n",
              "    <div class=\"colab-df-container\">\n",
              "      <div>\n",
              "<style scoped>\n",
              "    .dataframe tbody tr th:only-of-type {\n",
              "        vertical-align: middle;\n",
              "    }\n",
              "\n",
              "    .dataframe tbody tr th {\n",
              "        vertical-align: top;\n",
              "    }\n",
              "\n",
              "    .dataframe thead th {\n",
              "        text-align: right;\n",
              "    }\n",
              "</style>\n",
              "<table border=\"1\" class=\"dataframe\">\n",
              "  <thead>\n",
              "    <tr style=\"text-align: right;\">\n",
              "      <th></th>\n",
              "      <th>App</th>\n",
              "      <th>Category</th>\n",
              "      <th>Rating</th>\n",
              "      <th>Reviews</th>\n",
              "      <th>Size</th>\n",
              "      <th>Installs</th>\n",
              "      <th>Type</th>\n",
              "      <th>Price</th>\n",
              "      <th>Content Rating</th>\n",
              "      <th>Genres</th>\n",
              "      <th>Last Updated</th>\n",
              "      <th>Current Ver</th>\n",
              "      <th>Android Ver</th>\n",
              "    </tr>\n",
              "  </thead>\n",
              "  <tbody>\n",
              "    <tr>\n",
              "      <th>10836</th>\n",
              "      <td>Sya9a Maroc - FR</td>\n",
              "      <td>FAMILY</td>\n",
              "      <td>4.5</td>\n",
              "      <td>38</td>\n",
              "      <td>53M</td>\n",
              "      <td>5,000+</td>\n",
              "      <td>Free</td>\n",
              "      <td>0</td>\n",
              "      <td>Everyone</td>\n",
              "      <td>Education</td>\n",
              "      <td>July 25, 2017</td>\n",
              "      <td>1.48</td>\n",
              "      <td>4.1 and up</td>\n",
              "    </tr>\n",
              "    <tr>\n",
              "      <th>10837</th>\n",
              "      <td>Fr. Mike Schmitz Audio Teachings</td>\n",
              "      <td>FAMILY</td>\n",
              "      <td>5.0</td>\n",
              "      <td>4</td>\n",
              "      <td>3.6M</td>\n",
              "      <td>100+</td>\n",
              "      <td>Free</td>\n",
              "      <td>0</td>\n",
              "      <td>Everyone</td>\n",
              "      <td>Education</td>\n",
              "      <td>July 6, 2018</td>\n",
              "      <td>1.0</td>\n",
              "      <td>4.1 and up</td>\n",
              "    </tr>\n",
              "    <tr>\n",
              "      <th>10838</th>\n",
              "      <td>Parkinson Exercices FR</td>\n",
              "      <td>MEDICAL</td>\n",
              "      <td>NaN</td>\n",
              "      <td>3</td>\n",
              "      <td>9.5M</td>\n",
              "      <td>1,000+</td>\n",
              "      <td>Free</td>\n",
              "      <td>0</td>\n",
              "      <td>Everyone</td>\n",
              "      <td>Medical</td>\n",
              "      <td>January 20, 2017</td>\n",
              "      <td>1.0</td>\n",
              "      <td>2.2 and up</td>\n",
              "    </tr>\n",
              "    <tr>\n",
              "      <th>10839</th>\n",
              "      <td>The SCP Foundation DB fr nn5n</td>\n",
              "      <td>BOOKS_AND_REFERENCE</td>\n",
              "      <td>4.5</td>\n",
              "      <td>114</td>\n",
              "      <td>Varies with device</td>\n",
              "      <td>1,000+</td>\n",
              "      <td>Free</td>\n",
              "      <td>0</td>\n",
              "      <td>Mature 17+</td>\n",
              "      <td>Books &amp; Reference</td>\n",
              "      <td>January 19, 2015</td>\n",
              "      <td>Varies with device</td>\n",
              "      <td>Varies with device</td>\n",
              "    </tr>\n",
              "    <tr>\n",
              "      <th>10840</th>\n",
              "      <td>iHoroscope - 2018 Daily Horoscope &amp; Astrology</td>\n",
              "      <td>LIFESTYLE</td>\n",
              "      <td>4.5</td>\n",
              "      <td>398307</td>\n",
              "      <td>19M</td>\n",
              "      <td>10,000,000+</td>\n",
              "      <td>Free</td>\n",
              "      <td>0</td>\n",
              "      <td>Everyone</td>\n",
              "      <td>Lifestyle</td>\n",
              "      <td>July 25, 2018</td>\n",
              "      <td>Varies with device</td>\n",
              "      <td>Varies with device</td>\n",
              "    </tr>\n",
              "  </tbody>\n",
              "</table>\n",
              "</div>\n",
              "      <button class=\"colab-df-convert\" onclick=\"convertToInteractive('df-ad697c61-5d1b-4f92-a3e4-9c75518e7046')\"\n",
              "              title=\"Convert this dataframe to an interactive table.\"\n",
              "              style=\"display:none;\">\n",
              "        \n",
              "  <svg xmlns=\"http://www.w3.org/2000/svg\" height=\"24px\"viewBox=\"0 0 24 24\"\n",
              "       width=\"24px\">\n",
              "    <path d=\"M0 0h24v24H0V0z\" fill=\"none\"/>\n",
              "    <path d=\"M18.56 5.44l.94 2.06.94-2.06 2.06-.94-2.06-.94-.94-2.06-.94 2.06-2.06.94zm-11 1L8.5 8.5l.94-2.06 2.06-.94-2.06-.94L8.5 2.5l-.94 2.06-2.06.94zm10 10l.94 2.06.94-2.06 2.06-.94-2.06-.94-.94-2.06-.94 2.06-2.06.94z\"/><path d=\"M17.41 7.96l-1.37-1.37c-.4-.4-.92-.59-1.43-.59-.52 0-1.04.2-1.43.59L10.3 9.45l-7.72 7.72c-.78.78-.78 2.05 0 2.83L4 21.41c.39.39.9.59 1.41.59.51 0 1.02-.2 1.41-.59l7.78-7.78 2.81-2.81c.8-.78.8-2.07 0-2.86zM5.41 20L4 18.59l7.72-7.72 1.47 1.35L5.41 20z\"/>\n",
              "  </svg>\n",
              "      </button>\n",
              "      \n",
              "  <style>\n",
              "    .colab-df-container {\n",
              "      display:flex;\n",
              "      flex-wrap:wrap;\n",
              "      gap: 12px;\n",
              "    }\n",
              "\n",
              "    .colab-df-convert {\n",
              "      background-color: #E8F0FE;\n",
              "      border: none;\n",
              "      border-radius: 50%;\n",
              "      cursor: pointer;\n",
              "      display: none;\n",
              "      fill: #1967D2;\n",
              "      height: 32px;\n",
              "      padding: 0 0 0 0;\n",
              "      width: 32px;\n",
              "    }\n",
              "\n",
              "    .colab-df-convert:hover {\n",
              "      background-color: #E2EBFA;\n",
              "      box-shadow: 0px 1px 2px rgba(60, 64, 67, 0.3), 0px 1px 3px 1px rgba(60, 64, 67, 0.15);\n",
              "      fill: #174EA6;\n",
              "    }\n",
              "\n",
              "    [theme=dark] .colab-df-convert {\n",
              "      background-color: #3B4455;\n",
              "      fill: #D2E3FC;\n",
              "    }\n",
              "\n",
              "    [theme=dark] .colab-df-convert:hover {\n",
              "      background-color: #434B5C;\n",
              "      box-shadow: 0px 1px 3px 1px rgba(0, 0, 0, 0.15);\n",
              "      filter: drop-shadow(0px 1px 2px rgba(0, 0, 0, 0.3));\n",
              "      fill: #FFFFFF;\n",
              "    }\n",
              "  </style>\n",
              "\n",
              "      <script>\n",
              "        const buttonEl =\n",
              "          document.querySelector('#df-ad697c61-5d1b-4f92-a3e4-9c75518e7046 button.colab-df-convert');\n",
              "        buttonEl.style.display =\n",
              "          google.colab.kernel.accessAllowed ? 'block' : 'none';\n",
              "\n",
              "        async function convertToInteractive(key) {\n",
              "          const element = document.querySelector('#df-ad697c61-5d1b-4f92-a3e4-9c75518e7046');\n",
              "          const dataTable =\n",
              "            await google.colab.kernel.invokeFunction('convertToInteractive',\n",
              "                                                     [key], {});\n",
              "          if (!dataTable) return;\n",
              "\n",
              "          const docLinkHtml = 'Like what you see? Visit the ' +\n",
              "            '<a target=\"_blank\" href=https://colab.research.google.com/notebooks/data_table.ipynb>data table notebook</a>'\n",
              "            + ' to learn more about interactive tables.';\n",
              "          element.innerHTML = '';\n",
              "          dataTable['output_type'] = 'display_data';\n",
              "          await google.colab.output.renderOutput(dataTable, element);\n",
              "          const docLink = document.createElement('div');\n",
              "          docLink.innerHTML = docLinkHtml;\n",
              "          element.appendChild(docLink);\n",
              "        }\n",
              "      </script>\n",
              "    </div>\n",
              "  </div>\n",
              "  "
            ]
          },
          "metadata": {},
          "execution_count": 6
        }
      ]
    },
    {
      "cell_type": "code",
      "execution_count": null,
      "metadata": {
        "colab": {
          "base_uri": "https://localhost:8080/"
        },
        "id": "d_2x_VQ_4SD_",
        "outputId": "1cf4716f-a7b8-47c8-d701-432909bb2881"
      },
      "outputs": [
        {
          "output_type": "execute_result",
          "data": {
            "text/plain": [
              "Index(['App', 'Category', 'Rating', 'Reviews', 'Size', 'Installs', 'Type',\n",
              "       'Price', 'Content Rating', 'Genres', 'Last Updated', 'Current Ver',\n",
              "       'Android Ver'],\n",
              "      dtype='object')"
            ]
          },
          "metadata": {},
          "execution_count": 7
        }
      ],
      "source": [
        "df.columns #to check the name of columns"
      ]
    },
    {
      "cell_type": "code",
      "execution_count": null,
      "metadata": {
        "colab": {
          "base_uri": "https://localhost:8080/"
        },
        "id": "WQQ2SP-DizzA",
        "outputId": "325abc87-cab9-4d80-cf1a-d9ea36e03ad2"
      },
      "outputs": [
        {
          "output_type": "execute_result",
          "data": {
            "text/plain": [
              "<bound method DataFrame.info of                                                      App             Category  \\\n",
              "0         Photo Editor & Candy Camera & Grid & ScrapBook       ART_AND_DESIGN   \n",
              "1                                    Coloring book moana       ART_AND_DESIGN   \n",
              "2      U Launcher Lite – FREE Live Cool Themes, Hide ...       ART_AND_DESIGN   \n",
              "3                                  Sketch - Draw & Paint       ART_AND_DESIGN   \n",
              "4                  Pixel Draw - Number Art Coloring Book       ART_AND_DESIGN   \n",
              "...                                                  ...                  ...   \n",
              "10836                                   Sya9a Maroc - FR               FAMILY   \n",
              "10837                   Fr. Mike Schmitz Audio Teachings               FAMILY   \n",
              "10838                             Parkinson Exercices FR              MEDICAL   \n",
              "10839                      The SCP Foundation DB fr nn5n  BOOKS_AND_REFERENCE   \n",
              "10840      iHoroscope - 2018 Daily Horoscope & Astrology            LIFESTYLE   \n",
              "\n",
              "       Rating Reviews                Size     Installs  Type Price  \\\n",
              "0         4.1     159                 19M      10,000+  Free     0   \n",
              "1         3.9     967                 14M     500,000+  Free     0   \n",
              "2         4.7   87510                8.7M   5,000,000+  Free     0   \n",
              "3         4.5  215644                 25M  50,000,000+  Free     0   \n",
              "4         4.3     967                2.8M     100,000+  Free     0   \n",
              "...       ...     ...                 ...          ...   ...   ...   \n",
              "10836     4.5      38                 53M       5,000+  Free     0   \n",
              "10837     5.0       4                3.6M         100+  Free     0   \n",
              "10838     NaN       3                9.5M       1,000+  Free     0   \n",
              "10839     4.5     114  Varies with device       1,000+  Free     0   \n",
              "10840     4.5  398307                 19M  10,000,000+  Free     0   \n",
              "\n",
              "      Content Rating                     Genres      Last Updated  \\\n",
              "0           Everyone               Art & Design   January 7, 2018   \n",
              "1           Everyone  Art & Design;Pretend Play  January 15, 2018   \n",
              "2           Everyone               Art & Design    August 1, 2018   \n",
              "3               Teen               Art & Design      June 8, 2018   \n",
              "4           Everyone    Art & Design;Creativity     June 20, 2018   \n",
              "...              ...                        ...               ...   \n",
              "10836       Everyone                  Education     July 25, 2017   \n",
              "10837       Everyone                  Education      July 6, 2018   \n",
              "10838       Everyone                    Medical  January 20, 2017   \n",
              "10839     Mature 17+          Books & Reference  January 19, 2015   \n",
              "10840       Everyone                  Lifestyle     July 25, 2018   \n",
              "\n",
              "              Current Ver         Android Ver  \n",
              "0                   1.0.0        4.0.3 and up  \n",
              "1                   2.0.0        4.0.3 and up  \n",
              "2                   1.2.4        4.0.3 and up  \n",
              "3      Varies with device          4.2 and up  \n",
              "4                     1.1          4.4 and up  \n",
              "...                   ...                 ...  \n",
              "10836                1.48          4.1 and up  \n",
              "10837                 1.0          4.1 and up  \n",
              "10838                 1.0          2.2 and up  \n",
              "10839  Varies with device  Varies with device  \n",
              "10840  Varies with device  Varies with device  \n",
              "\n",
              "[10841 rows x 13 columns]>"
            ]
          },
          "metadata": {},
          "execution_count": 8
        }
      ],
      "source": [
        "df.info #to get basic information of data"
      ]
    },
    {
      "cell_type": "code",
      "source": [
        "df.shape"
      ],
      "metadata": {
        "colab": {
          "base_uri": "https://localhost:8080/"
        },
        "id": "d4djtq2Ruztm",
        "outputId": "1b2966c0-26be-466e-813d-52a23bfb8bc3"
      },
      "execution_count": null,
      "outputs": [
        {
          "output_type": "execute_result",
          "data": {
            "text/plain": [
              "(10841, 13)"
            ]
          },
          "metadata": {},
          "execution_count": 9
        }
      ]
    },
    {
      "cell_type": "code",
      "source": [
        "df.size"
      ],
      "metadata": {
        "colab": {
          "base_uri": "https://localhost:8080/"
        },
        "id": "E--wDGzgu5tg",
        "outputId": "7b0025c6-d2cc-4356-9846-1674a6db9c19"
      },
      "execution_count": null,
      "outputs": [
        {
          "output_type": "execute_result",
          "data": {
            "text/plain": [
              "140933"
            ]
          },
          "metadata": {},
          "execution_count": 10
        }
      ]
    },
    {
      "cell_type": "markdown",
      "source": [
        "***Details of Each Columns of playstore_df DataFrame***\n",
        "\n",
        "|Columns_Name|Details_of_Contains|\n",
        "|------------|-------------------|\n",
        "|**App**| The app name|\n",
        "|**Category**|Categorical label, which describes which broad category the app belongs to.|\n",
        "|**Rating**|Continuous variable with a range from 0.0 to 5.0, which describes the average rating the app has received from the users.|\n",
        "|**Reviews**|Continuous variable describing the number of reviews that the app received.|\n",
        "|**Size**|The size of the app. The suffix M is used for megabytes, while the suffix K is used for kilobytes.|\n",
        "|**Installs**|Categorical label that describes the number of installs.|\n",
        "|**Type**|Label that indicates whether the app is free or paid.|\n",
        "|**Price**|The price value for the paid apps.|\n",
        "|**Content Rating**|Categorical rating that indicates the age group for which the app is suitable.|\n",
        "|**Genre**| Smicolon-separated list of genres to which the app belongs.|\n",
        "|**Last Update**|The date the app was last updated.|\n",
        "|**Current Version**|The current version of the app as specified by the developers.|\n",
        "|**Android Version**|The Android operating system the app is compatible with.|\n"
      ],
      "metadata": {
        "id": "75SiI5ibvBQF"
      }
    },
    {
      "cell_type": "markdown",
      "source": [
        "## ***USER REVIEW***"
      ],
      "metadata": {
        "id": "a5zt8S2IFqZx"
      }
    },
    {
      "cell_type": "markdown",
      "source": [
        "We have been also provided some information related to the review of the users.\n",
        "\n",
        "Here clearly we can see the sentimental orientation of the users toward different apps and its extent.\n",
        "\n",
        "Lets see some of the info in given data set of user reviews!"
      ],
      "metadata": {
        "id": "EPIXHQtnF1B2"
      }
    },
    {
      "cell_type": "code",
      "source": [
        "user_rev = pd.read_csv(path+'User Reviews.csv')"
      ],
      "metadata": {
        "id": "HLOMEm59ErQx"
      },
      "execution_count": null,
      "outputs": []
    },
    {
      "cell_type": "code",
      "source": [
        "user_rev.head()"
      ],
      "metadata": {
        "colab": {
          "base_uri": "https://localhost:8080/",
          "height": 206
        },
        "id": "qT0jbDudFnzU",
        "outputId": "535fd230-92c0-427b-c4a6-655fc8884f20"
      },
      "execution_count": null,
      "outputs": [
        {
          "output_type": "execute_result",
          "data": {
            "text/plain": [
              "                     App                                  Translated_Review  \\\n",
              "0  10 Best Foods for You  I like eat delicious food. That's I'm cooking ...   \n",
              "1  10 Best Foods for You    This help eating healthy exercise regular basis   \n",
              "2  10 Best Foods for You                                                NaN   \n",
              "3  10 Best Foods for You         Works great especially going grocery store   \n",
              "4  10 Best Foods for You                                       Best idea us   \n",
              "\n",
              "  Sentiment  Sentiment_Polarity  Sentiment_Subjectivity  \n",
              "0  Positive                1.00                0.533333  \n",
              "1  Positive                0.25                0.288462  \n",
              "2       NaN                 NaN                     NaN  \n",
              "3  Positive                0.40                0.875000  \n",
              "4  Positive                1.00                0.300000  "
            ],
            "text/html": [
              "\n",
              "  <div id=\"df-bab0fcf1-0956-4587-beaf-a5ae32a6dc6b\">\n",
              "    <div class=\"colab-df-container\">\n",
              "      <div>\n",
              "<style scoped>\n",
              "    .dataframe tbody tr th:only-of-type {\n",
              "        vertical-align: middle;\n",
              "    }\n",
              "\n",
              "    .dataframe tbody tr th {\n",
              "        vertical-align: top;\n",
              "    }\n",
              "\n",
              "    .dataframe thead th {\n",
              "        text-align: right;\n",
              "    }\n",
              "</style>\n",
              "<table border=\"1\" class=\"dataframe\">\n",
              "  <thead>\n",
              "    <tr style=\"text-align: right;\">\n",
              "      <th></th>\n",
              "      <th>App</th>\n",
              "      <th>Translated_Review</th>\n",
              "      <th>Sentiment</th>\n",
              "      <th>Sentiment_Polarity</th>\n",
              "      <th>Sentiment_Subjectivity</th>\n",
              "    </tr>\n",
              "  </thead>\n",
              "  <tbody>\n",
              "    <tr>\n",
              "      <th>0</th>\n",
              "      <td>10 Best Foods for You</td>\n",
              "      <td>I like eat delicious food. That's I'm cooking ...</td>\n",
              "      <td>Positive</td>\n",
              "      <td>1.00</td>\n",
              "      <td>0.533333</td>\n",
              "    </tr>\n",
              "    <tr>\n",
              "      <th>1</th>\n",
              "      <td>10 Best Foods for You</td>\n",
              "      <td>This help eating healthy exercise regular basis</td>\n",
              "      <td>Positive</td>\n",
              "      <td>0.25</td>\n",
              "      <td>0.288462</td>\n",
              "    </tr>\n",
              "    <tr>\n",
              "      <th>2</th>\n",
              "      <td>10 Best Foods for You</td>\n",
              "      <td>NaN</td>\n",
              "      <td>NaN</td>\n",
              "      <td>NaN</td>\n",
              "      <td>NaN</td>\n",
              "    </tr>\n",
              "    <tr>\n",
              "      <th>3</th>\n",
              "      <td>10 Best Foods for You</td>\n",
              "      <td>Works great especially going grocery store</td>\n",
              "      <td>Positive</td>\n",
              "      <td>0.40</td>\n",
              "      <td>0.875000</td>\n",
              "    </tr>\n",
              "    <tr>\n",
              "      <th>4</th>\n",
              "      <td>10 Best Foods for You</td>\n",
              "      <td>Best idea us</td>\n",
              "      <td>Positive</td>\n",
              "      <td>1.00</td>\n",
              "      <td>0.300000</td>\n",
              "    </tr>\n",
              "  </tbody>\n",
              "</table>\n",
              "</div>\n",
              "      <button class=\"colab-df-convert\" onclick=\"convertToInteractive('df-bab0fcf1-0956-4587-beaf-a5ae32a6dc6b')\"\n",
              "              title=\"Convert this dataframe to an interactive table.\"\n",
              "              style=\"display:none;\">\n",
              "        \n",
              "  <svg xmlns=\"http://www.w3.org/2000/svg\" height=\"24px\"viewBox=\"0 0 24 24\"\n",
              "       width=\"24px\">\n",
              "    <path d=\"M0 0h24v24H0V0z\" fill=\"none\"/>\n",
              "    <path d=\"M18.56 5.44l.94 2.06.94-2.06 2.06-.94-2.06-.94-.94-2.06-.94 2.06-2.06.94zm-11 1L8.5 8.5l.94-2.06 2.06-.94-2.06-.94L8.5 2.5l-.94 2.06-2.06.94zm10 10l.94 2.06.94-2.06 2.06-.94-2.06-.94-.94-2.06-.94 2.06-2.06.94z\"/><path d=\"M17.41 7.96l-1.37-1.37c-.4-.4-.92-.59-1.43-.59-.52 0-1.04.2-1.43.59L10.3 9.45l-7.72 7.72c-.78.78-.78 2.05 0 2.83L4 21.41c.39.39.9.59 1.41.59.51 0 1.02-.2 1.41-.59l7.78-7.78 2.81-2.81c.8-.78.8-2.07 0-2.86zM5.41 20L4 18.59l7.72-7.72 1.47 1.35L5.41 20z\"/>\n",
              "  </svg>\n",
              "      </button>\n",
              "      \n",
              "  <style>\n",
              "    .colab-df-container {\n",
              "      display:flex;\n",
              "      flex-wrap:wrap;\n",
              "      gap: 12px;\n",
              "    }\n",
              "\n",
              "    .colab-df-convert {\n",
              "      background-color: #E8F0FE;\n",
              "      border: none;\n",
              "      border-radius: 50%;\n",
              "      cursor: pointer;\n",
              "      display: none;\n",
              "      fill: #1967D2;\n",
              "      height: 32px;\n",
              "      padding: 0 0 0 0;\n",
              "      width: 32px;\n",
              "    }\n",
              "\n",
              "    .colab-df-convert:hover {\n",
              "      background-color: #E2EBFA;\n",
              "      box-shadow: 0px 1px 2px rgba(60, 64, 67, 0.3), 0px 1px 3px 1px rgba(60, 64, 67, 0.15);\n",
              "      fill: #174EA6;\n",
              "    }\n",
              "\n",
              "    [theme=dark] .colab-df-convert {\n",
              "      background-color: #3B4455;\n",
              "      fill: #D2E3FC;\n",
              "    }\n",
              "\n",
              "    [theme=dark] .colab-df-convert:hover {\n",
              "      background-color: #434B5C;\n",
              "      box-shadow: 0px 1px 3px 1px rgba(0, 0, 0, 0.15);\n",
              "      filter: drop-shadow(0px 1px 2px rgba(0, 0, 0, 0.3));\n",
              "      fill: #FFFFFF;\n",
              "    }\n",
              "  </style>\n",
              "\n",
              "      <script>\n",
              "        const buttonEl =\n",
              "          document.querySelector('#df-bab0fcf1-0956-4587-beaf-a5ae32a6dc6b button.colab-df-convert');\n",
              "        buttonEl.style.display =\n",
              "          google.colab.kernel.accessAllowed ? 'block' : 'none';\n",
              "\n",
              "        async function convertToInteractive(key) {\n",
              "          const element = document.querySelector('#df-bab0fcf1-0956-4587-beaf-a5ae32a6dc6b');\n",
              "          const dataTable =\n",
              "            await google.colab.kernel.invokeFunction('convertToInteractive',\n",
              "                                                     [key], {});\n",
              "          if (!dataTable) return;\n",
              "\n",
              "          const docLinkHtml = 'Like what you see? Visit the ' +\n",
              "            '<a target=\"_blank\" href=https://colab.research.google.com/notebooks/data_table.ipynb>data table notebook</a>'\n",
              "            + ' to learn more about interactive tables.';\n",
              "          element.innerHTML = '';\n",
              "          dataTable['output_type'] = 'display_data';\n",
              "          await google.colab.output.renderOutput(dataTable, element);\n",
              "          const docLink = document.createElement('div');\n",
              "          docLink.innerHTML = docLinkHtml;\n",
              "          element.appendChild(docLink);\n",
              "        }\n",
              "      </script>\n",
              "    </div>\n",
              "  </div>\n",
              "  "
            ]
          },
          "metadata": {},
          "execution_count": 12
        }
      ]
    },
    {
      "cell_type": "code",
      "source": [
        "user_rev.tail()"
      ],
      "metadata": {
        "colab": {
          "base_uri": "https://localhost:8080/",
          "height": 206
        },
        "id": "tJ8WsVBUKISH",
        "outputId": "6517f303-7481-4249-a8ce-cd23f0d8b989"
      },
      "execution_count": null,
      "outputs": [
        {
          "output_type": "execute_result",
          "data": {
            "text/plain": [
              "                               App Translated_Review Sentiment  \\\n",
              "64290  Houzz Interior Design Ideas               NaN       NaN   \n",
              "64291  Houzz Interior Design Ideas               NaN       NaN   \n",
              "64292  Houzz Interior Design Ideas               NaN       NaN   \n",
              "64293  Houzz Interior Design Ideas               NaN       NaN   \n",
              "64294  Houzz Interior Design Ideas               NaN       NaN   \n",
              "\n",
              "       Sentiment_Polarity  Sentiment_Subjectivity  \n",
              "64290                 NaN                     NaN  \n",
              "64291                 NaN                     NaN  \n",
              "64292                 NaN                     NaN  \n",
              "64293                 NaN                     NaN  \n",
              "64294                 NaN                     NaN  "
            ],
            "text/html": [
              "\n",
              "  <div id=\"df-7fbc7787-e4ba-4303-b43f-4f8e2bdaf3e8\">\n",
              "    <div class=\"colab-df-container\">\n",
              "      <div>\n",
              "<style scoped>\n",
              "    .dataframe tbody tr th:only-of-type {\n",
              "        vertical-align: middle;\n",
              "    }\n",
              "\n",
              "    .dataframe tbody tr th {\n",
              "        vertical-align: top;\n",
              "    }\n",
              "\n",
              "    .dataframe thead th {\n",
              "        text-align: right;\n",
              "    }\n",
              "</style>\n",
              "<table border=\"1\" class=\"dataframe\">\n",
              "  <thead>\n",
              "    <tr style=\"text-align: right;\">\n",
              "      <th></th>\n",
              "      <th>App</th>\n",
              "      <th>Translated_Review</th>\n",
              "      <th>Sentiment</th>\n",
              "      <th>Sentiment_Polarity</th>\n",
              "      <th>Sentiment_Subjectivity</th>\n",
              "    </tr>\n",
              "  </thead>\n",
              "  <tbody>\n",
              "    <tr>\n",
              "      <th>64290</th>\n",
              "      <td>Houzz Interior Design Ideas</td>\n",
              "      <td>NaN</td>\n",
              "      <td>NaN</td>\n",
              "      <td>NaN</td>\n",
              "      <td>NaN</td>\n",
              "    </tr>\n",
              "    <tr>\n",
              "      <th>64291</th>\n",
              "      <td>Houzz Interior Design Ideas</td>\n",
              "      <td>NaN</td>\n",
              "      <td>NaN</td>\n",
              "      <td>NaN</td>\n",
              "      <td>NaN</td>\n",
              "    </tr>\n",
              "    <tr>\n",
              "      <th>64292</th>\n",
              "      <td>Houzz Interior Design Ideas</td>\n",
              "      <td>NaN</td>\n",
              "      <td>NaN</td>\n",
              "      <td>NaN</td>\n",
              "      <td>NaN</td>\n",
              "    </tr>\n",
              "    <tr>\n",
              "      <th>64293</th>\n",
              "      <td>Houzz Interior Design Ideas</td>\n",
              "      <td>NaN</td>\n",
              "      <td>NaN</td>\n",
              "      <td>NaN</td>\n",
              "      <td>NaN</td>\n",
              "    </tr>\n",
              "    <tr>\n",
              "      <th>64294</th>\n",
              "      <td>Houzz Interior Design Ideas</td>\n",
              "      <td>NaN</td>\n",
              "      <td>NaN</td>\n",
              "      <td>NaN</td>\n",
              "      <td>NaN</td>\n",
              "    </tr>\n",
              "  </tbody>\n",
              "</table>\n",
              "</div>\n",
              "      <button class=\"colab-df-convert\" onclick=\"convertToInteractive('df-7fbc7787-e4ba-4303-b43f-4f8e2bdaf3e8')\"\n",
              "              title=\"Convert this dataframe to an interactive table.\"\n",
              "              style=\"display:none;\">\n",
              "        \n",
              "  <svg xmlns=\"http://www.w3.org/2000/svg\" height=\"24px\"viewBox=\"0 0 24 24\"\n",
              "       width=\"24px\">\n",
              "    <path d=\"M0 0h24v24H0V0z\" fill=\"none\"/>\n",
              "    <path d=\"M18.56 5.44l.94 2.06.94-2.06 2.06-.94-2.06-.94-.94-2.06-.94 2.06-2.06.94zm-11 1L8.5 8.5l.94-2.06 2.06-.94-2.06-.94L8.5 2.5l-.94 2.06-2.06.94zm10 10l.94 2.06.94-2.06 2.06-.94-2.06-.94-.94-2.06-.94 2.06-2.06.94z\"/><path d=\"M17.41 7.96l-1.37-1.37c-.4-.4-.92-.59-1.43-.59-.52 0-1.04.2-1.43.59L10.3 9.45l-7.72 7.72c-.78.78-.78 2.05 0 2.83L4 21.41c.39.39.9.59 1.41.59.51 0 1.02-.2 1.41-.59l7.78-7.78 2.81-2.81c.8-.78.8-2.07 0-2.86zM5.41 20L4 18.59l7.72-7.72 1.47 1.35L5.41 20z\"/>\n",
              "  </svg>\n",
              "      </button>\n",
              "      \n",
              "  <style>\n",
              "    .colab-df-container {\n",
              "      display:flex;\n",
              "      flex-wrap:wrap;\n",
              "      gap: 12px;\n",
              "    }\n",
              "\n",
              "    .colab-df-convert {\n",
              "      background-color: #E8F0FE;\n",
              "      border: none;\n",
              "      border-radius: 50%;\n",
              "      cursor: pointer;\n",
              "      display: none;\n",
              "      fill: #1967D2;\n",
              "      height: 32px;\n",
              "      padding: 0 0 0 0;\n",
              "      width: 32px;\n",
              "    }\n",
              "\n",
              "    .colab-df-convert:hover {\n",
              "      background-color: #E2EBFA;\n",
              "      box-shadow: 0px 1px 2px rgba(60, 64, 67, 0.3), 0px 1px 3px 1px rgba(60, 64, 67, 0.15);\n",
              "      fill: #174EA6;\n",
              "    }\n",
              "\n",
              "    [theme=dark] .colab-df-convert {\n",
              "      background-color: #3B4455;\n",
              "      fill: #D2E3FC;\n",
              "    }\n",
              "\n",
              "    [theme=dark] .colab-df-convert:hover {\n",
              "      background-color: #434B5C;\n",
              "      box-shadow: 0px 1px 3px 1px rgba(0, 0, 0, 0.15);\n",
              "      filter: drop-shadow(0px 1px 2px rgba(0, 0, 0, 0.3));\n",
              "      fill: #FFFFFF;\n",
              "    }\n",
              "  </style>\n",
              "\n",
              "      <script>\n",
              "        const buttonEl =\n",
              "          document.querySelector('#df-7fbc7787-e4ba-4303-b43f-4f8e2bdaf3e8 button.colab-df-convert');\n",
              "        buttonEl.style.display =\n",
              "          google.colab.kernel.accessAllowed ? 'block' : 'none';\n",
              "\n",
              "        async function convertToInteractive(key) {\n",
              "          const element = document.querySelector('#df-7fbc7787-e4ba-4303-b43f-4f8e2bdaf3e8');\n",
              "          const dataTable =\n",
              "            await google.colab.kernel.invokeFunction('convertToInteractive',\n",
              "                                                     [key], {});\n",
              "          if (!dataTable) return;\n",
              "\n",
              "          const docLinkHtml = 'Like what you see? Visit the ' +\n",
              "            '<a target=\"_blank\" href=https://colab.research.google.com/notebooks/data_table.ipynb>data table notebook</a>'\n",
              "            + ' to learn more about interactive tables.';\n",
              "          element.innerHTML = '';\n",
              "          dataTable['output_type'] = 'display_data';\n",
              "          await google.colab.output.renderOutput(dataTable, element);\n",
              "          const docLink = document.createElement('div');\n",
              "          docLink.innerHTML = docLinkHtml;\n",
              "          element.appendChild(docLink);\n",
              "        }\n",
              "      </script>\n",
              "    </div>\n",
              "  </div>\n",
              "  "
            ]
          },
          "metadata": {},
          "execution_count": 13
        }
      ]
    },
    {
      "cell_type": "code",
      "source": [
        "user_rev.info()"
      ],
      "metadata": {
        "colab": {
          "base_uri": "https://localhost:8080/"
        },
        "id": "JUqk35dAKQe2",
        "outputId": "e5d26f3c-c659-431e-f7c1-91e8ae80ec93"
      },
      "execution_count": null,
      "outputs": [
        {
          "output_type": "stream",
          "name": "stdout",
          "text": [
            "<class 'pandas.core.frame.DataFrame'>\n",
            "RangeIndex: 64295 entries, 0 to 64294\n",
            "Data columns (total 5 columns):\n",
            " #   Column                  Non-Null Count  Dtype  \n",
            "---  ------                  --------------  -----  \n",
            " 0   App                     64295 non-null  object \n",
            " 1   Translated_Review       37427 non-null  object \n",
            " 2   Sentiment               37432 non-null  object \n",
            " 3   Sentiment_Polarity      37432 non-null  float64\n",
            " 4   Sentiment_Subjectivity  37432 non-null  float64\n",
            "dtypes: float64(2), object(3)\n",
            "memory usage: 2.5+ MB\n"
          ]
        }
      ]
    },
    {
      "cell_type": "markdown",
      "metadata": {
        "id": "DahNQSUzF6dD"
      },
      "source": [
        "# ***Category Wise Distribution***"
      ]
    },
    {
      "cell_type": "markdown",
      "metadata": {
        "id": "fD8cxLyzEJiy"
      },
      "source": [
        "Since there is a large number of apps and many apps are doing more or less same work or related to same genre,thus it is better to analyse their feature and popularity based on their category.\n",
        "\n",
        "Category provides us the different dimensions for need of the population.\n",
        "\n",
        "As Alain De Botton rightly said “To grow interested in any piece of information, we need somewhere to 'put' it, which means some way of connecting it to an issue we already now how to care about.”\n",
        "Categorization help us to simplify the large chunk of information for our better understanding and processing and making a relationship.\n",
        "\n",
        "Thus we first find the category wise distribution of Apps.It will give us which dimension of needs user generally like to pursue most."
      ]
    },
    {
      "cell_type": "code",
      "execution_count": null,
      "metadata": {
        "id": "0cLr_8UY4mq3"
      },
      "outputs": [],
      "source": [
        "number_in_category=df.groupby('Category').size().sort_values(ascending=False)"
      ]
    },
    {
      "cell_type": "code",
      "execution_count": null,
      "metadata": {
        "colab": {
          "base_uri": "https://localhost:8080/"
        },
        "id": "X0O4Imai4y2q",
        "outputId": "2a181b38-09ec-4de2-e70f-d394c30f36d1"
      },
      "outputs": [
        {
          "output_type": "stream",
          "name": "stdout",
          "text": [
            "Category\n",
            "FAMILY                 1972\n",
            "GAME                   1144\n",
            "TOOLS                   843\n",
            "MEDICAL                 463\n",
            "BUSINESS                460\n",
            "PRODUCTIVITY            424\n",
            "PERSONALIZATION         392\n",
            "COMMUNICATION           387\n",
            "SPORTS                  384\n",
            "LIFESTYLE               382\n",
            "FINANCE                 366\n",
            "HEALTH_AND_FITNESS      341\n",
            "PHOTOGRAPHY             335\n",
            "SOCIAL                  295\n",
            "NEWS_AND_MAGAZINES      283\n",
            "SHOPPING                260\n",
            "TRAVEL_AND_LOCAL        258\n",
            "DATING                  234\n",
            "BOOKS_AND_REFERENCE     231\n",
            "VIDEO_PLAYERS           175\n",
            "EDUCATION               156\n",
            "ENTERTAINMENT           149\n",
            "MAPS_AND_NAVIGATION     137\n",
            "FOOD_AND_DRINK          127\n",
            "HOUSE_AND_HOME           88\n",
            "LIBRARIES_AND_DEMO       85\n",
            "AUTO_AND_VEHICLES        85\n",
            "WEATHER                  82\n",
            "ART_AND_DESIGN           65\n",
            "EVENTS                   64\n",
            "PARENTING                60\n",
            "COMICS                   60\n",
            "BEAUTY                   53\n",
            "1.9                       1\n",
            "dtype: int64\n"
          ]
        }
      ],
      "source": [
        "print(number_in_category)"
      ]
    },
    {
      "cell_type": "markdown",
      "metadata": {
        "id": "0RM9GRAzGiHd"
      },
      "source": [
        "**Plotting distribution of Category**"
      ]
    },
    {
      "cell_type": "code",
      "execution_count": null,
      "metadata": {
        "colab": {
          "base_uri": "https://localhost:8080/",
          "height": 864
        },
        "id": "1ba--_oO5Etj",
        "outputId": "933640f7-a7b8-486b-e2ad-148e49947194"
      },
      "outputs": [
        {
          "output_type": "execute_result",
          "data": {
            "text/plain": [
              "<matplotlib.axes._subplots.AxesSubplot at 0x7f0845e2b1c0>"
            ]
          },
          "metadata": {},
          "execution_count": 17
        },
        {
          "output_type": "display_data",
          "data": {
            "text/plain": [
              "<Figure size 1440x1080 with 1 Axes>"
            ],
            "image/png": "[encoded data removed]"
          },
          "metadata": {}
        }
      ],
      "source": [
        "plt.rcParams['figure.figsize'] = (20, 15)\n",
        "def autopct(pct): # only show the label when it's > 10%\n",
        "    return ('%.2f' % pct) if pct > 5 else ''\n",
        "number_in_category.plot(kind='pie',autopct=autopct)"
      ]
    },
    {
      "cell_type": "markdown",
      "metadata": {
        "id": "CGoLHaQvI6Xt"
      },
      "source": [
        "This pie chart showed us the Family related apps are the most number in availability, followed by Games which is generally preferred by Children.\n",
        "This two constitute neary 30% of the available Apps.\n",
        "\n",
        "Look like developers have a better understanding of family needs.\n",
        "Other unexpected result,is having so much less number of Beauty Apps despite nearly 50% women in our society.This pointed toward the digital divide where female still constitute very less number of users as compared to male.\n",
        "\n",
        "Declined trend in Comic Apps also shows the changing orientation of the children.In our childhood,comic consist very important source of entertainment,but today we can percieve the changes,feeling sad!"
      ]
    },
    {
      "cell_type": "markdown",
      "metadata": {
        "id": "Z81ivKjTG299"
      },
      "source": [
        "# ***Category Wise Distribution Of Installs***"
      ]
    },
    {
      "cell_type": "markdown",
      "metadata": {
        "id": "oTl5c0Y8NziV"
      },
      "source": [
        "Now after analysing the availability of Apps on Playstore, we would move toward the result which is the number of Installs which actually matters!\n",
        "\n",
        "This will actually shows the category wise demand of the Apps and will help us to estimate the taste of the population and their interest.\n",
        "\n",
        "Analyzing this could help in making future strategy for App Developers to attract larger users base."
      ]
    },
    {
      "cell_type": "code",
      "execution_count": null,
      "metadata": {
        "colab": {
          "base_uri": "https://localhost:8080/"
        },
        "id": "pfzjkvXoOTen",
        "outputId": "bcadeb2b-3819-4c9c-ac1e-b10e91f47970"
      },
      "outputs": [
        {
          "output_type": "execute_result",
          "data": {
            "text/plain": [
              "1,000,000+        1579\n",
              "10,000,000+       1252\n",
              "100,000+          1169\n",
              "10,000+           1054\n",
              "1,000+             907\n",
              "5,000,000+         752\n",
              "100+               719\n",
              "500,000+           539\n",
              "50,000+            479\n",
              "5,000+             477\n",
              "100,000,000+       409\n",
              "10+                386\n",
              "500+               330\n",
              "50,000,000+        289\n",
              "50+                205\n",
              "5+                  82\n",
              "500,000,000+        72\n",
              "1+                  67\n",
              "1,000,000,000+      58\n",
              "0+                  14\n",
              "0                    1\n",
              "Free                 1\n",
              "Name: Installs, dtype: int64"
            ]
          },
          "metadata": {},
          "execution_count": 18
        }
      ],
      "source": [
        "df['Installs'].value_counts() #checking different amount of installs"
      ]
    },
    {
      "cell_type": "markdown",
      "metadata": {
        "id": "6W4PkcLFHg9S"
      },
      "source": [
        "**Cleaning of data**\n"
      ]
    },
    {
      "cell_type": "markdown",
      "metadata": {
        "id": "Gum4sV19XUKw"
      },
      "source": [
        "Install data having data type of String with symbol like commas,plus.Thus for comparing and analysing , need to be converted in Integer type.It would help us in plotting the Numerical Value on chart."
      ]
    },
    {
      "cell_type": "code",
      "execution_count": null,
      "metadata": {
        "id": "WPkVdRb0VK_v"
      },
      "outputs": [],
      "source": [
        "df['Installs'] = df['Installs'].apply(lambda x: x.replace(',', '')) # removing comma(,)"
      ]
    },
    {
      "cell_type": "code",
      "execution_count": null,
      "metadata": {
        "id": "T2hXn6OlVNPI"
      },
      "outputs": [],
      "source": [
        "df['Installs'] = df['Installs'].apply(lambda x: x.strip('+')) #removing plus(+) symbol for converting into numerical form(int)"
      ]
    },
    {
      "cell_type": "code",
      "execution_count": null,
      "metadata": {
        "id": "ieAq_mG2VRK4"
      },
      "outputs": [],
      "source": [
        "df['Installs'] = df['Installs'].replace(\"Free\", '0') #replacing 'Free' with '0' for fusing into same data type"
      ]
    },
    {
      "cell_type": "code",
      "execution_count": null,
      "metadata": {
        "id": "G6vqwMUbVdro"
      },
      "outputs": [],
      "source": [
        "df['Installs'] = df['Installs'].astype('int') #converting data type of string into int."
      ]
    },
    {
      "cell_type": "code",
      "execution_count": null,
      "metadata": {
        "colab": {
          "base_uri": "https://localhost:8080/"
        },
        "id": "i-y23VAuWz1l",
        "outputId": "4ddc8368-088d-4a35-d0e7-d8c22e1f9b36"
      },
      "outputs": [
        {
          "output_type": "stream",
          "name": "stdout",
          "text": [
            "                        Installs\n",
            "Category                        \n",
            "GAME                 35086024415\n",
            "COMMUNICATION        32647276251\n",
            "PRODUCTIVITY         14176091369\n",
            "SOCIAL               14069867902\n",
            "TOOLS                11452771915\n",
            "FAMILY               10258263505\n",
            "PHOTOGRAPHY          10088247655\n",
            "NEWS_AND_MAGAZINES    7496317760\n",
            "TRAVEL_AND_LOCAL      6868887146\n",
            "VIDEO_PLAYERS         6222002720\n",
            "SHOPPING              3247848785\n",
            "ENTERTAINMENT         2869160000\n",
            "PERSONALIZATION       2325494782\n",
            "BOOKS_AND_REFERENCE   1921469576\n",
            "SPORTS                1751174498\n",
            "HEALTH_AND_FITNESS    1583072512\n",
            "BUSINESS              1001914865\n",
            "FINANCE                876648734\n",
            "EDUCATION              871452000\n",
            "MAPS_AND_NAVIGATION    724281890\n",
            "LIFESTYLE              537643539\n",
            "WEATHER                426100520\n",
            "FOOD_AND_DRINK         273898751\n",
            "DATING                 264310807\n",
            "HOUSE_AND_HOME         168712461\n",
            "ART_AND_DESIGN         124338100\n",
            "LIBRARIES_AND_DEMO      62995910\n",
            "COMICS                  56086150\n",
            "MEDICAL                 53257437\n",
            "AUTO_AND_VEHICLES       53130211\n",
            "PARENTING               31521110\n",
            "BEAUTY                  27197050\n",
            "EVENTS                  15973161\n",
            "1.9                            0\n"
          ]
        }
      ],
      "source": [
        "category_wise_install=df.groupby(['Category'])[['Installs']].sum().sort_values(by='Installs',ascending=False) #category wise grouping of number of Installs \n",
        "print(category_wise_install)\n"
      ]
    },
    {
      "cell_type": "markdown",
      "metadata": {
        "id": "vzHs64J5M2xh"
      },
      "source": [
        "**TOP 5 Installed APP**"
      ]
    },
    {
      "cell_type": "code",
      "execution_count": null,
      "metadata": {
        "colab": {
          "base_uri": "https://localhost:8080/",
          "height": 206
        },
        "id": "i_cT-GRflUxf",
        "outputId": "850153f8-0066-49a2-e5f0-acf3df8b35e4"
      },
      "outputs": [
        {
          "output_type": "execute_result",
          "data": {
            "text/plain": [
              "                                          App             Category    Installs\n",
              "152                         Google Play Books  BOOKS_AND_REFERENCE  1000000000\n",
              "335  Messenger – Text and Video Chat for Free        COMMUNICATION  1000000000\n",
              "336                        WhatsApp Messenger        COMMUNICATION  1000000000\n",
              "338              Google Chrome: Fast & Secure        COMMUNICATION  1000000000\n",
              "340                                     Gmail        COMMUNICATION  1000000000"
            ],
            "text/html": [
              "\n",
              "  <div id=\"df-506c39b9-2018-4641-bca3-225777fb3ae5\">\n",
              "    <div class=\"colab-df-container\">\n",
              "      <div>\n",
              "<style scoped>\n",
              "    .dataframe tbody tr th:only-of-type {\n",
              "        vertical-align: middle;\n",
              "    }\n",
              "\n",
              "    .dataframe tbody tr th {\n",
              "        vertical-align: top;\n",
              "    }\n",
              "\n",
              "    .dataframe thead th {\n",
              "        text-align: right;\n",
              "    }\n",
              "</style>\n",
              "<table border=\"1\" class=\"dataframe\">\n",
              "  <thead>\n",
              "    <tr style=\"text-align: right;\">\n",
              "      <th></th>\n",
              "      <th>App</th>\n",
              "      <th>Category</th>\n",
              "      <th>Installs</th>\n",
              "    </tr>\n",
              "  </thead>\n",
              "  <tbody>\n",
              "    <tr>\n",
              "      <th>152</th>\n",
              "      <td>Google Play Books</td>\n",
              "      <td>BOOKS_AND_REFERENCE</td>\n",
              "      <td>1000000000</td>\n",
              "    </tr>\n",
              "    <tr>\n",
              "      <th>335</th>\n",
              "      <td>Messenger – Text and Video Chat for Free</td>\n",
              "      <td>COMMUNICATION</td>\n",
              "      <td>1000000000</td>\n",
              "    </tr>\n",
              "    <tr>\n",
              "      <th>336</th>\n",
              "      <td>WhatsApp Messenger</td>\n",
              "      <td>COMMUNICATION</td>\n",
              "      <td>1000000000</td>\n",
              "    </tr>\n",
              "    <tr>\n",
              "      <th>338</th>\n",
              "      <td>Google Chrome: Fast &amp; Secure</td>\n",
              "      <td>COMMUNICATION</td>\n",
              "      <td>1000000000</td>\n",
              "    </tr>\n",
              "    <tr>\n",
              "      <th>340</th>\n",
              "      <td>Gmail</td>\n",
              "      <td>COMMUNICATION</td>\n",
              "      <td>1000000000</td>\n",
              "    </tr>\n",
              "  </tbody>\n",
              "</table>\n",
              "</div>\n",
              "      <button class=\"colab-df-convert\" onclick=\"convertToInteractive('df-506c39b9-2018-4641-bca3-225777fb3ae5')\"\n",
              "              title=\"Convert this dataframe to an interactive table.\"\n",
              "              style=\"display:none;\">\n",
              "        \n",
              "  <svg xmlns=\"http://www.w3.org/2000/svg\" height=\"24px\"viewBox=\"0 0 24 24\"\n",
              "       width=\"24px\">\n",
              "    <path d=\"M0 0h24v24H0V0z\" fill=\"none\"/>\n",
              "    <path d=\"M18.56 5.44l.94 2.06.94-2.06 2.06-.94-2.06-.94-.94-2.06-.94 2.06-2.06.94zm-11 1L8.5 8.5l.94-2.06 2.06-.94-2.06-.94L8.5 2.5l-.94 2.06-2.06.94zm10 10l.94 2.06.94-2.06 2.06-.94-2.06-.94-.94-2.06-.94 2.06-2.06.94z\"/><path d=\"M17.41 7.96l-1.37-1.37c-.4-.4-.92-.59-1.43-.59-.52 0-1.04.2-1.43.59L10.3 9.45l-7.72 7.72c-.78.78-.78 2.05 0 2.83L4 21.41c.39.39.9.59 1.41.59.51 0 1.02-.2 1.41-.59l7.78-7.78 2.81-2.81c.8-.78.8-2.07 0-2.86zM5.41 20L4 18.59l7.72-7.72 1.47 1.35L5.41 20z\"/>\n",
              "  </svg>\n",
              "      </button>\n",
              "      \n",
              "  <style>\n",
              "    .colab-df-container {\n",
              "      display:flex;\n",
              "      flex-wrap:wrap;\n",
              "      gap: 12px;\n",
              "    }\n",
              "\n",
              "    .colab-df-convert {\n",
              "      background-color: #E8F0FE;\n",
              "      border: none;\n",
              "      border-radius: 50%;\n",
              "      cursor: pointer;\n",
              "      display: none;\n",
              "      fill: #1967D2;\n",
              "      height: 32px;\n",
              "      padding: 0 0 0 0;\n",
              "      width: 32px;\n",
              "    }\n",
              "\n",
              "    .colab-df-convert:hover {\n",
              "      background-color: #E2EBFA;\n",
              "      box-shadow: 0px 1px 2px rgba(60, 64, 67, 0.3), 0px 1px 3px 1px rgba(60, 64, 67, 0.15);\n",
              "      fill: #174EA6;\n",
              "    }\n",
              "\n",
              "    [theme=dark] .colab-df-convert {\n",
              "      background-color: #3B4455;\n",
              "      fill: #D2E3FC;\n",
              "    }\n",
              "\n",
              "    [theme=dark] .colab-df-convert:hover {\n",
              "      background-color: #434B5C;\n",
              "      box-shadow: 0px 1px 3px 1px rgba(0, 0, 0, 0.15);\n",
              "      filter: drop-shadow(0px 1px 2px rgba(0, 0, 0, 0.3));\n",
              "      fill: #FFFFFF;\n",
              "    }\n",
              "  </style>\n",
              "\n",
              "      <script>\n",
              "        const buttonEl =\n",
              "          document.querySelector('#df-506c39b9-2018-4641-bca3-225777fb3ae5 button.colab-df-convert');\n",
              "        buttonEl.style.display =\n",
              "          google.colab.kernel.accessAllowed ? 'block' : 'none';\n",
              "\n",
              "        async function convertToInteractive(key) {\n",
              "          const element = document.querySelector('#df-506c39b9-2018-4641-bca3-225777fb3ae5');\n",
              "          const dataTable =\n",
              "            await google.colab.kernel.invokeFunction('convertToInteractive',\n",
              "                                                     [key], {});\n",
              "          if (!dataTable) return;\n",
              "\n",
              "          const docLinkHtml = 'Like what you see? Visit the ' +\n",
              "            '<a target=\"_blank\" href=https://colab.research.google.com/notebooks/data_table.ipynb>data table notebook</a>'\n",
              "            + ' to learn more about interactive tables.';\n",
              "          element.innerHTML = '';\n",
              "          dataTable['output_type'] = 'display_data';\n",
              "          await google.colab.output.renderOutput(dataTable, element);\n",
              "          const docLink = document.createElement('div');\n",
              "          docLink.innerHTML = docLinkHtml;\n",
              "          element.appendChild(docLink);\n",
              "        }\n",
              "      </script>\n",
              "    </div>\n",
              "  </div>\n",
              "  "
            ]
          },
          "metadata": {},
          "execution_count": 23
        }
      ],
      "source": [
        "top5_installed=df[df['Installs']==1000000000]\n",
        "top5_installed[['App','Category','Installs']].head()"
      ]
    },
    {
      "cell_type": "markdown",
      "metadata": {
        "id": "Hu2r_FPrcegB"
      },
      "source": [
        "Quite interesting, messengers apps dominating the top installs,it shows the now messengers Apps have became one of the basic needs of a person.\n",
        "Historically from sign to letter and from telephone to now messenger,how the world is changing year by year.\n"
      ]
    },
    {
      "cell_type": "markdown",
      "metadata": {
        "id": "Vf7Yp7RoNvc_"
      },
      "source": [
        "**Plotting Category Wise Installs**"
      ]
    },
    {
      "cell_type": "code",
      "execution_count": null,
      "metadata": {
        "id": "3ZOjhCkmYHHw"
      },
      "outputs": [],
      "source": [
        "plt.rcParams['figure.figsize'] = (15, 10)\n",
        "install_axis=[]\n",
        "category_axis=[]\n",
        "for j in range(len(category_wise_install)):\n",
        "    install_axis.append(category_wise_install.Installs[j])\n",
        "    category_axis.append(category_wise_install.index[j])\n"
      ]
    },
    {
      "cell_type": "code",
      "execution_count": null,
      "metadata": {
        "colab": {
          "base_uri": "https://localhost:8080/",
          "height": 654
        },
        "id": "UbOWCjvpTl8-",
        "outputId": "b8de8794-0a3e-4d23-8240-d7a9ebc5f48a"
      },
      "outputs": [
        {
          "output_type": "execute_result",
          "data": {
            "text/plain": [
              "Text(0.5, 1.0, 'Installs')"
            ]
          },
          "metadata": {},
          "execution_count": 26
        },
        {
          "output_type": "display_data",
          "data": {
            "text/plain": [
              "<Figure size 1080x720 with 1 Axes>"
            ],
            "image/png": "[encoded data removed]"
          },
          "metadata": {
            "needs_background": "light"
          }
        }
      ],
      "source": [
        "plt.xlabel(\"Installs\", size=15)\n",
        "plt.ylabel(\"Category\",size=15)\n",
        "sns.barplot(x = install_axis, y= category_axis, alpha =0.9)\n",
        "plt.title(\"Installs\", fontsize = 25)"
      ]
    },
    {
      "cell_type": "markdown",
      "metadata": {
        "id": "nJVBiWtnTLat"
      },
      "source": [
        "Now after analysing the availability of Apps on Playstore,we would move toward the result which is the number of Installs which actually matters!\n",
        "\n",
        "Quiet Shocking!despite having most number of Family related Apps,their installs are very less compared to their availibility even not come in top 5 category wise.\n",
        "Game category able to dominate in both in their number of availability and Installs.\n",
        "\n",
        "Communication related apps have impressed us despite havping less availability able to secure the position of top installs,which shows the high demand of for this category of Apps.\n",
        "\n",
        "Less number of installs in Health and Education category make us to think about the less awareness among people in using digital technology.Government need to work in difusing sense of trust among citizen on technology change and their optimal use.\n",
        "\n",
        "Minimal installs in Beauty category shows the female are still lagging behind male in using Apps due to several reasons.\n",
        "\n",
        "This graph is also showing the social aspect of the population!"
      ]
    },
    {
      "cell_type": "markdown",
      "metadata": {
        "id": "sTVDCD0X1xgX"
      },
      "source": [
        "Ploting the Top 10 Installed Apps in any category"
      ]
    },
    {
      "cell_type": "code",
      "execution_count": null,
      "metadata": {
        "id": "OFrNNSrEs1Cx"
      },
      "outputs": [],
      "source": [
        "plt.rcParams['figure.figsize'] = (12, 7)\n",
        "def Top10_installed_app_in_any_category(str):\n",
        "    str = str.upper()\n",
        "    top10 = df[df['Category'] == str]\n",
        "    top10apps = top10.sort_values(by='Installs', ascending=False).head(10)\n",
        "    plt.figure(figsize=(12,7))\n",
        "    plt.title('Top 10 Installed Apps',size = 25);    \n",
        "    graph = sns.barplot(x = top10apps['App'], y = top10apps['Installs'])\n",
        "    graph.set_xticklabels(graph.get_xticklabels(), rotation= 45, horizontalalignment='right');"
      ]
    },
    {
      "cell_type": "code",
      "execution_count": null,
      "metadata": {
        "colab": {
          "base_uri": "https://localhost:8080/",
          "height": 650
        },
        "id": "xbiuwtvetFZP",
        "outputId": "c1743bd6-947c-4068-d462-e5289ca87982"
      },
      "outputs": [
        {
          "output_type": "display_data",
          "data": {
            "text/plain": [
              "<Figure size 864x504 with 1 Axes>"
            ],
            "image/png": "[encoded data removed]"
          },
          "metadata": {
            "needs_background": "light"
          }
        }
      ],
      "source": [
        "Top10_installed_app_in_any_category('ART_AND_DESIGN')"
      ]
    },
    {
      "cell_type": "markdown",
      "metadata": {
        "id": "mwFZ9nVlbM2y"
      },
      "source": [
        "If we select a category,for example 'ART AND DESIGN',here we can see stark difference between to Apps like Sketch-Draw & Paint and other Apps.\n",
        "Reason could be anything lik peple's interest,easy to use,price,commercial nature etc.\n",
        "\n",
        "People still like more simple drawing and painting rather than editing,which show the despite arrival of new features,orientation of people still toward the older way of art.\n",
        "\n",
        "We already saw in Movie Titanic!"
      ]
    },
    {
      "cell_type": "markdown",
      "metadata": {
        "id": "ffIHLUJBQHfS"
      },
      "source": [
        "# ***Category Wise Rating***"
      ]
    },
    {
      "cell_type": "markdown",
      "metadata": {
        "id": "w7wtxFYMy2nV"
      },
      "source": [
        "Now we ll move to Rating related to the different category.\n",
        "\n",
        "Rating is the measure how much users like it services.\n",
        "\n",
        "Here we ll see the average rating in every category and try to analyse which category of Apps people liked the most in terms of their performance.\n",
        "\n",
        "This would help the developers to find the shortcoming in their Apps to which they rectify to improve ratings "
      ]
    },
    {
      "cell_type": "markdown",
      "metadata": {
        "id": "PRCf_dplQcRD"
      },
      "source": [
        "**Data Cleaning**"
      ]
    },
    {
      "cell_type": "code",
      "execution_count": null,
      "metadata": {
        "id": "5Rrb8mclUdAS"
      },
      "outputs": [],
      "source": [
        "df.loc[df['Rating']==np.NaN,'Rating']=0 #replacing Rating of np.Nan with 0 and 19 with 1.9\n",
        "df.loc[df['Rating']==19, 'Rating']=1.9\n"
      ]
    },
    {
      "cell_type": "code",
      "execution_count": null,
      "metadata": {
        "colab": {
          "base_uri": "https://localhost:8080/"
        },
        "id": "EloSz3gnpkyL",
        "outputId": "23bfbd03-3e34-43fc-a1ae-04345bbc339a"
      },
      "outputs": [
        {
          "output_type": "stream",
          "name": "stdout",
          "text": [
            "               Category    Rating\n",
            "11               EVENTS  4.435556\n",
            "9             EDUCATION  4.389032\n",
            "1        ART_AND_DESIGN  4.358065\n",
            "4   BOOKS_AND_REFERENCE  4.346067\n",
            "24      PERSONALIZATION  4.335987\n",
            "23            PARENTING  4.300000\n",
            "15                 GAME  4.286326\n",
            "3                BEAUTY  4.278571\n",
            "16   HEALTH_AND_FITNESS  4.277104\n",
            "27             SHOPPING  4.259664\n",
            "28               SOCIAL  4.255598\n",
            "33              WEATHER  4.244000\n",
            "29               SPORTS  4.223511\n",
            "26         PRODUCTIVITY  4.211396\n",
            "17       HOUSE_AND_HOME  4.197368\n",
            "12               FAMILY  4.192272\n",
            "25          PHOTOGRAPHY  4.192114\n",
            "2     AUTO_AND_VEHICLES  4.190411\n",
            "21              MEDICAL  4.189143\n",
            "18   LIBRARIES_AND_DEMO  4.178462\n",
            "14       FOOD_AND_DRINK  4.166972\n",
            "7         COMMUNICATION  4.158537\n",
            "6                COMICS  4.155172\n",
            "22   NEWS_AND_MAGAZINES  4.132189\n",
            "13              FINANCE  4.131889\n",
            "10        ENTERTAINMENT  4.126174\n",
            "5              BUSINESS  4.121452\n",
            "31     TRAVEL_AND_LOCAL  4.109292\n",
            "19            LIFESTYLE  4.094904\n",
            "32        VIDEO_PLAYERS  4.063750\n",
            "20  MAPS_AND_NAVIGATION  4.051613\n",
            "30                TOOLS  4.047411\n",
            "8                DATING  3.970769\n",
            "0                   1.9  1.900000\n"
          ]
        }
      ],
      "source": [
        "category_wise_rating=df.groupby('Category')['Rating'].mean().reset_index().sort_values(by='Rating',ascending=False) #category wise grouping of rating\n",
        "print(category_wise_rating)"
      ]
    },
    {
      "cell_type": "markdown",
      "metadata": {
        "id": "sbEm-L0vRAv1"
      },
      "source": [
        "**Plotting Category Wise Rating**"
      ]
    },
    {
      "cell_type": "markdown",
      "metadata": {
        "id": "j3DeuIdR9AZl"
      },
      "source": [
        "First we like would see the category wise Mean Rating and try to compare which App gets the better rating and better satisfying its users."
      ]
    },
    {
      "cell_type": "code",
      "execution_count": null,
      "metadata": {
        "colab": {
          "base_uri": "https://localhost:8080/",
          "height": 586
        },
        "id": "oz1SSmJyWVAd",
        "outputId": "56467840-18bd-4c86-a1aa-d54bc8009647"
      },
      "outputs": [
        {
          "output_type": "execute_result",
          "data": {
            "text/plain": [
              "Text(0.5, 1.0, 'Category Wise  Mean Rating')"
            ]
          },
          "metadata": {},
          "execution_count": 31
        },
        {
          "output_type": "display_data",
          "data": {
            "text/plain": [
              "<Figure size 1440x504 with 1 Axes>"
            ],
            "image/png": "[encoded data removed]"
          },
          "metadata": {
            "needs_background": "light"
          }
        }
      ],
      "source": [
        "plt.rcParams['figure.figsize'] = (20,7)\n",
        "category_wise_rating.plot(kind='bar',x='Category',y='Rating',color='brown')\n",
        "plt.xlabel('Category',fontsize=15)\n",
        "plt.ylabel('Mean Rating',fontsize=15)\n",
        "plt.title('Category Wise  Mean Rating',fontsize=25)"
      ]
    },
    {
      "cell_type": "markdown",
      "metadata": {
        "id": "NRSFYJ9f-vME"
      },
      "source": [
        "Here we can see the Event related apps are the top performing in terms of users satisfactions.\n",
        "\n",
        "This shows the Education related Apps also more desirable for the users,their high rating suggest why  the current generation knows going for the online education.Online education provide opertunities to the student especially girls in remote areas to access the learning material.\n",
        "\n",
        "Quite interesting !Beauty related apps are also among performing apps,able to satisfy ladies.That's a big deal!\n",
        "\n",
        "Most intersting thing to note is,Dating related Apps are among the worst performing Apps,broken expectation of many users to get into relationship."
      ]
    },
    {
      "cell_type": "markdown",
      "source": [
        "**Plotting Density Of Rating**"
      ],
      "metadata": {
        "id": "dnXAKxwIXOAR"
      }
    },
    {
      "cell_type": "markdown",
      "source": [
        "Now we ll see the general rating given by users out of 5.\n",
        "\n",
        "It help us to know overall experience user got."
      ],
      "metadata": {
        "id": "CC793z3dXY66"
      }
    },
    {
      "cell_type": "code",
      "source": [
        "plt.rcParams['figure.figsize']=(10,7) #using Seaborn\n",
        "sns.distplot(df['Rating'])"
      ],
      "metadata": {
        "colab": {
          "base_uri": "https://localhost:8080/",
          "height": 517
        },
        "id": "WAqxhEllXFxI",
        "outputId": "3ba5a34d-7828-4fcc-be56-63e48c0094ca"
      },
      "execution_count": null,
      "outputs": [
        {
          "output_type": "stream",
          "name": "stderr",
          "text": [
            "/usr/local/lib/python3.8/dist-packages/seaborn/distributions.py:2619: FutureWarning: `distplot` is a deprecated function and will be removed in a future version. Please adapt your code to use either `displot` (a figure-level function with similar flexibility) or `histplot` (an axes-level function for histograms).\n",
            "  warnings.warn(msg, FutureWarning)\n"
          ]
        },
        {
          "output_type": "execute_result",
          "data": {
            "text/plain": [
              "<matplotlib.axes._subplots.AxesSubplot at 0x7f084291dd90>"
            ]
          },
          "metadata": {},
          "execution_count": 54
        },
        {
          "output_type": "display_data",
          "data": {
            "text/plain": [
              "<Figure size 720x504 with 1 Axes>"
            ],
            "image/png": "[encoded data removed]"
          },
          "metadata": {
            "needs_background": "light"
          }
        }
      ]
    },
    {
      "cell_type": "markdown",
      "source": [
        "The density rating graph shows the user's level of satisfaction using different Apps.By seeing data,we can people are giving on an avaerage more than 4 out of 5 which show that user's are nearly satisfied with the services. This ll help to comapare the performance of Apps in Google Playstore with that on other Play Store.\n",
        "\n",
        "Average of more than 4 rating gives an idea that users are actually liking this Apps on Google Store .\n",
        "\n",
        "This is also due to having an open platform which provide many new idea and opportunies to developer to grow and innovate according to the need of the people."
      ],
      "metadata": {
        "id": "wkir4YRoXoOH"
      }
    },
    {
      "cell_type": "markdown",
      "source": [
        "# ***Relation between Size and Installs***"
      ],
      "metadata": {
        "id": "X9msqiLyGG7O"
      }
    },
    {
      "cell_type": "markdown",
      "source": [
        "Now we ll see the impact of size of Apps on the number of Installs.\n",
        "\n",
        "Here first we ll clean the data to make in analyzing form.\n",
        "We ll convert the data from string in to Integer format."
      ],
      "metadata": {
        "id": "S98SKLi2HVNt"
      }
    },
    {
      "cell_type": "markdown",
      "source": [
        "***Data Cleaning***"
      ],
      "metadata": {
        "id": "9b_d6BKoIQj0"
      }
    },
    {
      "cell_type": "code",
      "source": [
        "df['Size'] = df['Size'].apply(lambda x: x.strip('+')) #removing '+' symbol"
      ],
      "metadata": {
        "id": "El1j-6A68Tai"
      },
      "execution_count": null,
      "outputs": []
    },
    {
      "cell_type": "code",
      "execution_count": null,
      "metadata": {
        "id": "7eWauqqY8aZN"
      },
      "outputs": [],
      "source": [
        "df['Size'] = df['Size'].apply(lambda x: x.replace(',', '')) #removing ',' symbol to convert into integers"
      ]
    },
    {
      "cell_type": "code",
      "source": [
        "df['Size'] = df['Size'].str.replace(\"M\",\"000\") #replacing 'M'(millions) with '000'"
      ],
      "metadata": {
        "id": "QSTSxswr8ZLf"
      },
      "execution_count": null,
      "outputs": []
    },
    {
      "cell_type": "code",
      "source": [
        "df['Size'] = df['Size'].str.replace(\"k\",\"\") #putting all data of size in kilobyte"
      ],
      "metadata": {
        "id": "GlW55ua18pq7"
      },
      "execution_count": null,
      "outputs": []
    },
    {
      "cell_type": "code",
      "source": [
        "df['Size'] = df['Size'].str.replace(\"1000+\",\"1000\", regex=True) #removing '+' symbol "
      ],
      "metadata": {
        "id": "sIYgYwbp8u0t"
      },
      "execution_count": null,
      "outputs": []
    },
    {
      "cell_type": "code",
      "source": [
        "df['Size'] = df['Size'].replace('Varies with device',np.nan) #replacing 'Vareis with device' with with np.nan for running the code"
      ],
      "metadata": {
        "id": "U-KkB5Cs8zql"
      },
      "execution_count": null,
      "outputs": []
    },
    {
      "cell_type": "code",
      "source": [
        "df['Size'] =df['Size'].astype(float) #changing data type of Size Coloumn"
      ],
      "metadata": {
        "id": "xTZZRz_Y836d"
      },
      "execution_count": null,
      "outputs": []
    },
    {
      "cell_type": "markdown",
      "source": [
        "# Ploting the Graph"
      ],
      "metadata": {
        "id": "tCiFR9NLIZNq"
      }
    },
    {
      "cell_type": "code",
      "source": [
        "plt.figure(figsize=(10,5))\n",
        "sns.scatterplot(x=df['Size'],y=df['Installs'],alpha=0.5)"
      ],
      "metadata": {
        "colab": {
          "base_uri": "https://localhost:8080/",
          "height": 363
        },
        "id": "DGgqWl0g-1oG",
        "outputId": "25f5e5bf-a483-4f3a-a554-2195ff84afca"
      },
      "execution_count": null,
      "outputs": [
        {
          "output_type": "execute_result",
          "data": {
            "text/plain": [
              "<matplotlib.axes._subplots.AxesSubplot at 0x7f084382e880>"
            ]
          },
          "metadata": {},
          "execution_count": 42
        },
        {
          "output_type": "display_data",
          "data": {
            "text/plain": [
              "<Figure size 720x360 with 1 Axes>"
            ],
            "image/png": "[encoded data removed]"
          },
          "metadata": {
            "needs_background": "light"
          }
        }
      ]
    },
    {
      "cell_type": "markdown",
      "source": [
        "Here,we can see that Installs are more or less same,despite increase of Size.\n",
        "\n",
        "Majority of them have remain under 10 Million Installs.\n",
        "\n",
        "Few even touched 1 Billion Installs."
      ],
      "metadata": {
        "id": "-HQIKGpWIkRs"
      }
    },
    {
      "cell_type": "markdown",
      "source": [
        "# ***Mode Size of the Apps***"
      ],
      "metadata": {
        "id": "4p2eOfmpGfZ2"
      }
    },
    {
      "cell_type": "markdown",
      "source": [
        "If we want to figure out that maximum number of Apps consume how much space.\n",
        "\n",
        "We ll go for density plot."
      ],
      "metadata": {
        "id": "4PnPX-sVHPGm"
      }
    },
    {
      "cell_type": "markdown",
      "source": [
        "# Plotting the Graph"
      ],
      "metadata": {
        "id": "Dpo1i6SeOGu1"
      }
    },
    {
      "cell_type": "code",
      "source": [
        "plt.rcParams['figure.figsize']=(10,7) #using Seaborn\n",
        "sns.distplot(df['Size'])"
      ],
      "metadata": {
        "colab": {
          "base_uri": "https://localhost:8080/",
          "height": 517
        },
        "id": "NFXt5B70BJ97",
        "outputId": "61fc6064-43f5-48ba-b16f-eabc4a62d29b"
      },
      "execution_count": null,
      "outputs": [
        {
          "output_type": "stream",
          "name": "stderr",
          "text": [
            "/usr/local/lib/python3.8/dist-packages/seaborn/distributions.py:2619: FutureWarning: `distplot` is a deprecated function and will be removed in a future version. Please adapt your code to use either `displot` (a figure-level function with similar flexibility) or `histplot` (an axes-level function for histograms).\n",
            "  warnings.warn(msg, FutureWarning)\n"
          ]
        },
        {
          "output_type": "execute_result",
          "data": {
            "text/plain": [
              "<matplotlib.axes._subplots.AxesSubplot at 0x7f0843de0880>"
            ]
          },
          "metadata": {},
          "execution_count": 51
        },
        {
          "output_type": "display_data",
          "data": {
            "text/plain": [
              "<Figure size 720x504 with 1 Axes>"
            ],
            "image/png": "[encoded data removed]"
          },
          "metadata": {
            "needs_background": "light"
          }
        }
      ]
    },
    {
      "cell_type": "markdown",
      "source": [
        "Here,we can see that most number of Apps consume 1MB to 2MB.\n",
        "\n",
        "Then after as we increasing size the number of Apps decreasing\n",
        "exponentially."
      ],
      "metadata": {
        "id": "q8WQbb7FOO3R"
      }
    },
    {
      "cell_type": "markdown",
      "metadata": {
        "id": "sq96rB28dC-6"
      },
      "source": [
        "# CONCLUSION"
      ]
    },
    {
      "cell_type": "markdown",
      "metadata": {
        "id": "BlBen6LWgVay"
      },
      "source": [
        "That it!after going through all the process and analysing various information,\n",
        "\n",
        "> Indented block\n",
        "\n",
        "\n",
        "we are moving toward the concluding our analysis.\n",
        "\n",
        "After several operation we come to know about the various aspect of the Dataset of Play Store.\n",
        "like Which Category of Apps are most available,their Installs Quantity,Reviews numbers as well as Size and Ratings they got and found the Games related Apps are the dominant one.\n",
        "\n",
        "We have observed that-\n",
        "\n",
        "1-Family related category are the Apps which is the most available followed by Games.\n",
        "\n",
        "2-Games are the most Intalled Apps.\n",
        "\n",
        "3-If we see the top10 Installed APP in Art and Design Category,\n",
        " Sketch Draw and Paint is much more installed than its followed Apps\n",
        "\n",
        "4-Average rating given by users are in between 4 & 5\n",
        "\n",
        "5-Size does not impact more on Installs,as Installs remain more or less same as we increase size.\n",
        "\n",
        "6-Most number of Apps have a size in between 1 and 2 Mb.\n"
      ]
    },
    {
      "cell_type": "markdown",
      "source": [
        "# Summary"
      ],
      "metadata": {
        "id": "kBhY9Ya5cA4i"
      }
    },
    {
      "cell_type": "markdown",
      "source": [
        "If we summarize the analysis.\n",
        "\n",
        "We have gone through the most available category,most number of Installs,average rating they got,impact of size on Intalls,and Size shared by most number of Apps.\n",
        "\n",
        "We can see the Game are the most dominant Apps despite being high size still top the Installs chart.\n",
        "\n",
        "This analysis also show the importance of Data Cleaning,few outlier can change the trajectory of result to biased.\n",
        "\n",
        "Here we also come to know the taste of the users and why the android Apps are so much popular."
      ],
      "metadata": {
        "id": "fa5UHBBUcJs6"
      }
    }
  ],
  "metadata": {
    "colab": {
      "provenance": [],
      "include_colab_link": true
    },
    "kernelspec": {
      "display_name": "Python 3",
      "name": "python3"
    },
    "language_info": {
      "name": "python"
    }
  },
  "nbformat": 4,
  "nbformat_minor": 0
}